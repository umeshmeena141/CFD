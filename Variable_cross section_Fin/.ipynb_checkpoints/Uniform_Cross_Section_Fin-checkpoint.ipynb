{
 "cells": [
  {
   "cell_type": "code",
   "execution_count": 1,
   "metadata": {},
   "outputs": [],
   "source": [
    "import math\n",
    "import numpy as np"
   ]
  },
  {
   "cell_type": "code",
   "execution_count": 2,
   "metadata": {},
   "outputs": [],
   "source": [
    "h = 25 # Heat Transfer Coefficient\n",
    "k = 385 # Thermal Conductivity"
   ]
  },
  {
   "cell_type": "code",
   "execution_count": 3,
   "metadata": {},
   "outputs": [],
   "source": [
    "d = 7.5*10**(-3) # Diameter of Fin \n",
    "l = 0.1\n",
    "p = 2*math.pi*d/2 # Perimeter of cross section\n",
    "A = math.pi*(d**2)/4 # Area "
   ]
  },
  {
   "cell_type": "code",
   "execution_count": 4,
   "metadata": {},
   "outputs": [],
   "source": [
    "m = h*p/(k*A)\n",
    "T_b = 500\n",
    "T_a = 25\n",
    "T1 = T_b - T_a"
   ]
  },
  {
   "cell_type": "code",
   "execution_count": 22,
   "metadata": {},
   "outputs": [],
   "source": [
    "grid_size = 10"
   ]
  },
  {
   "cell_type": "code",
   "execution_count": null,
   "metadata": {},
   "outputs": [],
   "source": [
    "#  (1/x^2)*T_i+1 - ( m + 2/x^2)*T_i + (1/x^2)*T_i-1 = 0"
   ]
  },
  {
   "cell_type": "code",
   "execution_count": 16,
   "metadata": {},
   "outputs": [],
   "source": [
    "def Matrix(grid_size,x):\n",
    "    Tridia_mat=[]\n",
    "    for i in range(0,grid_size-2):\n",
    "        row = []\n",
    "        cnt=0\n",
    "        if i!=0 and i!=(grid_size-2):\n",
    "            for j in range(0,grid_size-2):\n",
    "                if (j==i-1 or j==i+1):\n",
    "                    row.append(1.0/(x**2))\n",
    "                elif(j==i):\n",
    "                    row.append(-(2.0/(x**2) + m))\n",
    "                else:\n",
    "                    row.append(0)\n",
    "        elif i==0:\n",
    "            row = [0 for j in range(0,grid_size-2)]\n",
    "            row[0],row[1] = -(2.0/(x**2) + m),1.0/(x**2)\n",
    "        else:\n",
    "            row = [0 for j in range(0,grid_size-2)]\n",
    "            row[-2],row[-1] = -(2.0/(x**2) + m),1.0/(x**2)\n",
    "        Tridia_mat.append(np.array(row))\n",
    "\n",
    "    Tridia_mat = np.array(Tridia_mat)\n",
    "    return Tridia_mat"
   ]
  },
  {
   "cell_type": "code",
   "execution_count": 15,
   "metadata": {},
   "outputs": [],
   "source": [
    "# Define Boundary Conditions\n",
    "def boundary_conditions(x,bdry_type='insulated',T_t = 0):\n",
    "    B = [0 for i in range(0,grid_size-2)]\n",
    "    B[0] = -(1.0/(x**2))*T1\n",
    "    B[-1] = T_t\n",
    "    return B"
   ]
  },
  {
   "cell_type": "code",
   "execution_count": 14,
   "metadata": {},
   "outputs": [],
   "source": [
    "def TDMA(A,B,grid_size,x,bdry_type='insulated'):\n",
    "    for i in range(1,grid_size-2):\n",
    "        A[i][i] = A[i][i] - (float(A[i][i-1])/A[i-1][i-1])*A[i-1][i]\n",
    "        B[i] = B[i] - (float(A[i][i-1])/A[i-1][i-1])*B[i-1]\n",
    "        A[i][i-1] = 0\n",
    "    \n",
    "    X=[0 for j in range(grid_size-3,-1,-1)]\n",
    "    for j in range(grid_size-3,-1,-1):\n",
    "        if j!=(grid_size-3):\n",
    "            X[j] = (B[j] - A[j][j+1] * X[j + 1]) / A[j][j]\n",
    "        elif (bdry_type == 'insulated'):\n",
    "            X[j] =B[j]/(A[j][j]+1.0/(x**2))\n",
    "        elif (bdry_type == 't_spec'):\n",
    "            X[j] =B[j]/(A[j][j])\n",
    "        elif (bdry_type == 'conv'):\n",
    "            X[j] =B[j]/(A[j][j]+1.0/((x**2)*(1+(h*x/k))))\n",
    "    return X\n",
    "        "
   ]
  },
  {
   "cell_type": "code",
   "execution_count": 11,
   "metadata": {},
   "outputs": [],
   "source": [
    "def find_sol(grid_size):\n",
    "    x = l/(grid_size-1)\n",
    "    Tridia_mat = Matrix(grid_size,x)\n",
    "    B = boundary_conditions(x,T_t=0)\n",
    "    # print(Tridia_mat,B)\n",
    "    X =TDMA(Tridia_mat,B,grid_size,x)\n",
    "    x0= [i*x for i in range(1,grid_size-1)]  \n",
    "    m_sqrt = math.sqrt(m)\n",
    "    analytical=[]\n",
    "    for i in x0:\n",
    "        analytical.append(T1*math.cosh(m_sqrt*(l-i))/math.cosh(m_sqrt*(l))) \n",
    "    plt.plot(x0,X)\n",
    "    plt.plot(x0,analytical)"
   ]
  },
  {
   "cell_type": "code",
   "execution_count": 23,
   "metadata": {},
   "outputs": [
    {
     "data": {
      "image/png": "[encoded data removed]",
      "text/plain": [
       "<matplotlib.figure.Figure at 0x7f7a22b6d1d0>"
      ]
     },
     "metadata": {},
     "output_type": "display_data"
    }
   ],
   "source": [
    "find_sol(grid_size)\n"
   ]
  },
  {
   "cell_type": "code",
   "execution_count": null,
   "metadata": {},
   "outputs": [],
   "source": []
  },
  {
   "cell_type": "code",
   "execution_count": 18,
   "metadata": {},
   "outputs": [],
   "source": [
    "import matplotlib.pyplot as plt\n"
   ]
  }
 ],
 "metadata": {
  "kernelspec": {
   "display_name": "Python 2",
   "language": "python",
   "name": "python2"
  },
  "language_info": {
   "codemirror_mode": {
    "name": "ipython",
    "version": 2
   },
   "file_extension": ".py",
   "mimetype": "text/x-python",
   "name": "python",
   "nbconvert_exporter": "python",
   "pygments_lexer": "ipython2",
   "version": "2.7.15"
  }
 },
 "nbformat": 4,
 "nbformat_minor": 2
}

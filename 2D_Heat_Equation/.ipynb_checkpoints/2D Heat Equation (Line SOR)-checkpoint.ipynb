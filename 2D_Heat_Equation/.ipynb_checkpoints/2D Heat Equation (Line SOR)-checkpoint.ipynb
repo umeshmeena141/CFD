{
 "cells": [
  {
   "cell_type": "code",
   "execution_count": 8,
   "metadata": {},
   "outputs": [],
   "source": [
    "import math\n",
    "import numpy as np\n",
    "import matplotlib.pyplot as plt\n",
    "import sys"
   ]
  },
  {
   "cell_type": "code",
   "execution_count": 5,
   "metadata": {},
   "outputs": [],
   "source": [
    "# Line SOR\n",
    "#(w0)*(T[i+1][j])_k+1 - 2*(1+_lambda^2)*(T[i][j])_k+1 + (w0)*(T[i-1][j])_k+1 = (-2(1-w0)(1+_lambda^2))*(T[i][j])_k\n",
    "#                                                                   - (w0)*(_lambda^2)((T[i][j+1])_k + (T[i][j-1]_k+1))"
   ]
  },
  {
   "cell_type": "code",
   "execution_count": 199,
   "metadata": {},
   "outputs": [],
   "source": [
    "class Line_SOR:\n",
    "    def __init__ (self,grid_size):\n",
    "        self._iter = 100\n",
    "        self.w = 25*10**(-3)\n",
    "        self.l = 50*10**(-3)\n",
    "        self.T1 = 500\n",
    "        self.T0 = 300\n",
    "        self.grid_size=grid_size\n",
    "        self.delta_x = self.l/(grid_size[0]-1)\n",
    "        self.delta_y = self.w/(grid_size[1]-1)\n",
    "        self._lambda = (self.delta_x/self.delta_y)**2\n",
    "        self.w0 = 1.48\n",
    "    \n",
    "    def TDMA(self,A,B):\n",
    "        for i in range(1,self.grid_size[0]-2):\n",
    "            A[i][i] = A[i][i] - (float(A[i][i-1])/A[i-1][i-1])*A[i-1][i]\n",
    "            B[i] = B[i] - (float(A[i][i-1])/A[i-1][i-1])*B[i-1]\n",
    "            A[i][i-1] = 0\n",
    "#         print(A,B)\n",
    "        X=[0 for j in range(self.grid_size[0]-3,-1,-1)]\n",
    "\n",
    "        for j in range(self.grid_size[0]-3,-1,-1):\n",
    "            if j!=(self.grid_size[0]-3):\n",
    "                X[j] = (B[j] - A[j][j+1] * X[j + 1]) / A[j][j]\n",
    "            else:\n",
    "                X[j] =B[j]/(A[j][j])\n",
    "        return X\n",
    "    \n",
    "    def make_tdm(self,a_k,a_k_1):\n",
    "        block_x = np.zeros((self.grid_size[0]-2,self.grid_size[0]-2))\n",
    "        block_y = np.zeros((self.grid_size[0]-2))\n",
    "        for i in range(self.grid_size[0]-2):\n",
    "            if i!=0 and i!= self.grid_size[0]-3:\n",
    "                block_y[i] = -2*(1-self.w0)*(1+self._lambda**2)*a_k[0][i+1] - (self.w0)*(self._lambda**2)*(a_k[1][i+1]+a_k_1[0][i+1])\n",
    "                for j in range(self.grid_size[0]-2):\n",
    "                    if (j==i) :\n",
    "                        block_x[i][j] = (-2*(1.0+self._lambda**2))\n",
    "                    elif (j==i-1):\n",
    "                        block_x[i][j] = (self.w0)\n",
    "                    elif (j==i+1):\n",
    "                        block_x[i][j] = (self.w0)\n",
    "                        \n",
    "            elif i==0:\n",
    "                block_x[0][0],block_x[0][1] = (-2*(1+self._lambda**2)),(self.w0)\n",
    "                block_y[i] = -(self.w0)*300 -2*(1-self.w0)*(1+self._lambda**2)*a_k[0][i+1] - (self.w0)*(self._lambda**2)*(a_k[1][i+1]+a_k_1[0][i+1])\n",
    "            else:\n",
    "                block_x[i][-2],block_x[i][-1] = (self.w0),(-2*(1+self._lambda**2))\n",
    "                block_y[i] = -(self.w0)*300 -2*(1-self.w0)*(1+self._lambda**2)*a_k[0][i+1] - (self.w0)*(self._lambda**2)*(a_k[1][i+1]+a_k_1[0][i+1])\n",
    "        return block_x,block_y  \n",
    "    \n",
    "    def boundary_conditions(self,b_k,b_k_1):\n",
    "        b_k[0] = b_k[0]+self.T0\n",
    "        b_k[self.grid_size[1]-1]= b_k[self.grid_size[1]-1] + self.T1\n",
    "        b_k[:,0] = b_k[:,0] + self.T0\n",
    "        b_k[:,self.grid_size[0]-1] = b_k[:,self.grid_size[0]-1] + self.T0\n",
    "        b_k_1[0],b_k_1[:,0] = b_k[0],b_k[:,0]\n",
    "        b_k_1[self.grid_size[1]-1],b_k_1[:,self.grid_size[0]-1] = b_k[self.grid_size[1]-1],b_k[:,self.grid_size[0]-1]\n",
    "        \n",
    "        return b_k,b_k_1\n",
    "    \n",
    "    def Solve_SOR(self):\n",
    "        A_k = np.zeros((self.grid_size[1],self.grid_size[0]))\n",
    "        A_k_1 = np.zeros((self.grid_size[1],self.grid_size[0]))\n",
    "        self.boundary_conditions(A_k,A_k_1)\n",
    "        for it in range(self._iter):\n",
    "            for j in range(1,self.grid_size[1]-1):\n",
    "                block_x,block_y = self.make_tdm(A_k[j:j+2],A_k_1[j-1:j+1])\n",
    "                X = self.TDMA(block_x,block_y)\n",
    "#                 print(X)\n",
    "                A_k_1[j,1:-1] = X\n",
    "#                 sys.stdout.write('\\r'+str(j)+'\\\\'+str(self.grid_size[1]-2)+' completed')\n",
    "            A_k = A_k_1\n",
    "            sys.stdout.write('\\r'+str(it)+'\\\\'+str(self._iter)+' completed')\n",
    "        \n",
    "        return A_k_1\n",
    "            \n",
    "            \n",
    "    def solve_analytically(self,k):\n",
    "        _p = (np.pi)/self.l\n",
    "        T_an = np.zeros(self.grid_size[k])\n",
    "        for i in range(self.grid_size[k]-2):\n",
    "            if k==0:\n",
    "                x = (i+1)*self.delta_x\n",
    "                y = self.w/2\n",
    "                T_an[0],T_an[-1] = 300,300\n",
    "            elif k==1 :\n",
    "                y = (i+1)*self.delta_y\n",
    "                x = self.l/2\n",
    "                T_an[0],T_an[-1] = 300,500\n",
    "            T=0\n",
    "            for n in range(1,100):\n",
    "                r = np.sin(n*_p*x)*(np.sinh(n*_p*y)/(np.sinh(n*_p*self.w)))\n",
    "                T = T + ((1-(-1)**n)*r)/n\n",
    "            T_an[i+1] = self.T0 + 2*(self.T1 - self.T0)*T/np.pi\n",
    "        \n",
    "        return T_an\n",
    "            \n",
    "    def plot(self,k):\n",
    "        T_an = self.solve_analytically(k)\n",
    "#         print(T_an)\n",
    "        T_num = self.Solve_SOR()\n",
    "        if k==0:\n",
    "            T_plt = T_num[19]\n",
    "            t = [self.delta_x*i for i in range(self.grid_size[0])]\n",
    "        else:\n",
    "            T_plt = T_num[:,29]\n",
    "            t = [self.delta_y*i for i in range(self.grid_size[1])]\n",
    "        \n",
    "        plt.plot(t,T_an)\n",
    "        plt.plot(t,T_plt)\n",
    "        plt.show()\n",
    "            "
   ]
  },
  {
   "cell_type": "code",
   "execution_count": 200,
   "metadata": {},
   "outputs": [],
   "source": [
    "line_sor = Line_SOR([60,40])"
   ]
  },
  {
   "cell_type": "code",
   "execution_count": 161,
   "metadata": {},
   "outputs": [
    {
     "name": "stdout",
     "output_type": "stream",
     "text": [
      "99\\100 completed"
     ]
    }
   ],
   "source": [
    "mat = line_sor.Solve_SOR()"
   ]
  },
  {
   "cell_type": "code",
   "execution_count": 201,
   "metadata": {
    "scrolled": true
   },
   "outputs": [
    {
     "name": "stdout",
     "output_type": "stream",
     "text": [
      "99\\100 completed"
     ]
    },
    {
     "data": {
      "image/png": "[encoded data removed]",
      "text/plain": [
       "<Figure size 432x288 with 1 Axes>"
      ]
     },
     "metadata": {
      "needs_background": "light"
     },
     "output_type": "display_data"
    }
   ],
   "source": [
    "line_sor.plot(1)"
   ]
  },
  {
   "cell_type": "code",
   "execution_count": 59,
   "metadata": {},
   "outputs": [
    {
     "data": {
      "text/plain": [
       "1.7477736282677392"
      ]
     },
     "execution_count": 59,
     "metadata": {},
     "output_type": "execute_result"
    }
   ],
   "source": [
    "line_sor._lambda"
   ]
  },
  {
   "cell_type": "code",
   "execution_count": 119,
   "metadata": {},
   "outputs": [],
   "source": [
    "a = ((np.cos(np.pi/59) + (1.74777**2)*np.cos(np.pi/39))/(1+1.74777**2)**2)"
   ]
  },
  {
   "cell_type": "code",
   "execution_count": 120,
   "metadata": {},
   "outputs": [],
   "source": [
    "w = (2-np.sqrt(1-a))/a"
   ]
  },
  {
   "cell_type": "code",
   "execution_count": 121,
   "metadata": {},
   "outputs": [
    {
     "data": {
      "text/plain": [
       "4.601281172266608"
      ]
     },
     "execution_count": 121,
     "metadata": {},
     "output_type": "execute_result"
    }
   ],
   "source": [
    "w"
   ]
  },
  {
   "cell_type": "code",
   "execution_count": 114,
   "metadata": {},
   "outputs": [
    {
     "name": "stdout",
     "output_type": "stream",
     "text": [
      "[[-2.0, 1, 0], [0, -1.5, 1], [0, 0, -1.3333333333333335]] [0.125, 0.1875, 0.25]\n"
     ]
    },
    {
     "data": {
      "text/plain": [
       "[-0.1875, -0.25, -0.18749999999999997]"
      ]
     },
     "execution_count": 114,
     "metadata": {},
     "output_type": "execute_result"
    }
   ],
   "source": [
    "a= [[-2, 1, 0],[1,-2,1],[0,1,-2]]\n",
    "b = [1/8,1/8,1/8]\n",
    "TDMA(a,b)"
   ]
  }
 ],
 "metadata": {
  "kernelspec": {
   "display_name": "Python 3",
   "language": "python",
   "name": "python3"
  },
  "language_info": {
   "codemirror_mode": {
    "name": "ipython",
    "version": 3
   },
   "file_extension": ".py",
   "mimetype": "text/x-python",
   "name": "python",
   "nbconvert_exporter": "python",
   "pygments_lexer": "ipython3",
   "version": "3.6.7"
  }
 },
 "nbformat": 4,
 "nbformat_minor": 2
}
